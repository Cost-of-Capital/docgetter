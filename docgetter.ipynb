{
 "cells": [
  {
   "cell_type": "code",
   "execution_count": 157,
   "metadata": {},
   "outputs": [
    {
     "name": "stdout",
     "output_type": "stream",
     "text": [
      "['output', 'codebase', 'data_ref']\n"
     ]
    }
   ],
   "source": [
    "import pandas as pd\n",
    "import paramiko as pk\n",
    "\n",
    "host = 'mercury.chicagobooth.edu'\n",
    "username = 'erouhani'\n",
    "conf_univ = \"/project/kh_mercury_1/conference_call/xml_pulls/\"\n",
    "\n",
    "\n",
    "key = pk.RSAKey.from_private_key_file(\"./mercury_files/id_rsa\")\n",
    "ssh = pk.SSHClient()\n",
    "ssh.set_missing_host_key_policy(pk.AutoAddPolicy())\n",
    "ssh.connect(host, username = username, pkey = key)\n",
    "sftp = ssh.open_sftp()\n",
    "\n",
    "print(sftp.listdir(conf_univ))\n",
    "sftp.close()\n"
   ]
  }
 ],
 "metadata": {
  "language_info": {
   "name": "python"
  },
  "orig_nbformat": 4
 },
 "nbformat": 4,
 "nbformat_minor": 2
}
